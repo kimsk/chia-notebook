{
 "cells": [
  {
   "cell_type": "code",
   "execution_count": 1,
   "id": "cf3341e7-5d3d-4645-a734-bd25008dae03",
   "metadata": {
    "tags": []
   },
   "outputs": [],
   "source": [
    "async def get_coin_records_by_puzzle_hash(full_node_client, puzzle_hash: bytes32):\n",
    "    coin_records = await full_node_client.get_coin_records_by_puzzle_hash(puzzle_hash, include_spent_coins=True)\n",
    "    return coin_records"
   ]
  },
  {
   "cell_type": "code",
   "execution_count": 2,
   "id": "1b7b200a-802e-421e-a792-a2a5eec85e36",
   "metadata": {},
   "outputs": [],
   "source": [
    "chia_root = Path('/Users/karlkim/.chia/mainnet/')\n",
    "chia_config = load_config(chia_root, \"config.yaml\")\n",
    "self_hostname = chia_config[\"self_hostname\"]\n",
    "full_node_rpc_port = chia_config[\"full_node\"][\"rpc_port\"]"
   ]
  },
  {
   "cell_type": "markdown",
   "id": "3edae7c5-e841-4ceb-a6cc-7b5bb648f758",
   "metadata": {},
   "source": [
    "## Wrap Function"
   ]
  },
  {
   "cell_type": "code",
   "execution_count": 3,
   "id": "52befc16-3499-479b-9b67-b2a2b494c7f5",
   "metadata": {
    "tags": []
   },
   "outputs": [],
   "source": [
    "inject_full_node = with_full_node_rpc_client(self_hostname, full_node_rpc_port, chia_root, chia_config)\n",
    "get_coin_records_by_puzzle_hash = inject_full_node(get_coin_records_by_puzzle_hash)"
   ]
  },
  {
   "cell_type": "code",
   "execution_count": 4,
   "id": "044ae0ad-c92c-4860-ae4f-9f8ce9af301e",
   "metadata": {
    "tags": []
   },
   "outputs": [],
   "source": [
    "coin_records = await get_coin_records_by_puzzle_hash(bytes32.from_hexstr(\"cfbfdeed5c4ca2de3d0bf520b9cb4bb7743a359bd2e6a188d19ce7dffc21d3e7\"))"
   ]
  },
  {
   "cell_type": "code",
   "execution_count": 5,
   "id": "838ed20c-fa64-461c-b3d3-58b3139be079",
   "metadata": {
    "tags": []
   },
   "outputs": [
    {
     "data": {
      "text/html": [
       "<pre style=\"white-space:pre;overflow-x:auto;line-height:normal;font-family:Menlo,'DejaVu Sans Mono',consolas,'Courier New',monospace\"><span style=\"color: #800080; text-decoration-color: #800080; font-weight: bold\">CoinRecord</span><span style=\"font-weight: bold\">(</span>\n",
       "    <span style=\"color: #808000; text-decoration-color: #808000\">coin</span>=<span style=\"color: #800080; text-decoration-color: #800080\">Coin</span> <span style=\"font-weight: bold\">{</span> parent_coin_info: 4fd8bf886e00d0311ded041029f8c24980d1a5d3cc2f9b7eb44f375bd40f7671, puzzle_hash: \n",
       "cfbfdeed5c4ca2de3d0bf520b9cb4bb7743a359bd2e6a188d19ce7dffc21d3e7, amount: <span style=\"color: #008080; text-decoration-color: #008080; font-weight: bold\">51000000000</span> <span style=\"font-weight: bold\">}</span>,\n",
       "    <span style=\"color: #808000; text-decoration-color: #808000\">confirmed_block_index</span>=<span style=\"color: #008080; text-decoration-color: #008080; font-weight: bold\">3328585</span>,\n",
       "    <span style=\"color: #808000; text-decoration-color: #808000\">spent_block_index</span>=<span style=\"color: #008080; text-decoration-color: #008080; font-weight: bold\">3328585</span>,\n",
       "    <span style=\"color: #808000; text-decoration-color: #808000\">coinbase</span>=<span style=\"color: #ff0000; text-decoration-color: #ff0000; font-style: italic\">False</span>,\n",
       "    <span style=\"color: #808000; text-decoration-color: #808000\">timestamp</span>=<span style=\"color: #008080; text-decoration-color: #008080; font-weight: bold\">1677875307</span>\n",
       "<span style=\"font-weight: bold\">)</span>\n",
       "</pre>\n"
      ],
      "text/plain": [
       "\u001b[1;35mCoinRecord\u001b[0m\u001b[1m(\u001b[0m\n",
       "    \u001b[33mcoin\u001b[0m=\u001b[35mCoin\u001b[0m \u001b[1m{\u001b[0m parent_coin_info: 4fd8bf886e00d0311ded041029f8c24980d1a5d3cc2f9b7eb44f375bd40f7671, puzzle_hash: \n",
       "cfbfdeed5c4ca2de3d0bf520b9cb4bb7743a359bd2e6a188d19ce7dffc21d3e7, amount: \u001b[1;36m51000000000\u001b[0m \u001b[1m}\u001b[0m,\n",
       "    \u001b[33mconfirmed_block_index\u001b[0m=\u001b[1;36m3328585\u001b[0m,\n",
       "    \u001b[33mspent_block_index\u001b[0m=\u001b[1;36m3328585\u001b[0m,\n",
       "    \u001b[33mcoinbase\u001b[0m=\u001b[3;91mFalse\u001b[0m,\n",
       "    \u001b[33mtimestamp\u001b[0m=\u001b[1;36m1677875307\u001b[0m\n",
       "\u001b[1m)\u001b[0m\n"
      ]
     },
     "metadata": {},
     "output_type": "display_data"
    }
   ],
   "source": [
    "print(coin_records[0])"
   ]
  },
  {
   "cell_type": "markdown",
   "id": "aaf23768-b1a2-4b51-9579-f3f8f30b33b8",
   "metadata": {},
   "source": [
    "## Function Decorators"
   ]
  },
  {
   "cell_type": "code",
   "execution_count": 6,
   "id": "9cfdf3f5-fa24-4696-8974-0c783b8638d6",
   "metadata": {
    "tags": []
   },
   "outputs": [],
   "source": [
    "@with_full_node_rpc_client(self_hostname, full_node_rpc_port, chia_root, chia_config)\n",
    "async def get_coin_spend(full_node_client, coin_id: bytes32, spent_height):\n",
    "    coin_spend = await full_node_client.get_puzzle_and_solution(coin_id, spent_height)\n",
    "    return coin_spend"
   ]
  },
  {
   "cell_type": "code",
   "execution_count": 7,
   "id": "3c9c9bfb-a8a1-404f-9acd-64125b0f04c4",
   "metadata": {
    "tags": []
   },
   "outputs": [],
   "source": [
    "coin_spend = await get_coin_spend(coin_records[0].coin.name(), coin_records[0].spent_block_index)"
   ]
  },
  {
   "cell_type": "code",
   "execution_count": 8,
   "id": "8c04083d-234b-40ff-be58-f75784055911",
   "metadata": {
    "tags": []
   },
   "outputs": [
    {
     "data": {
      "text/html": [
       "<pre style=\"white-space:pre;overflow-x:auto;line-height:normal;font-family:Menlo,'DejaVu Sans Mono',consolas,'Courier New',monospace\"><span style=\"color: #f8f8f2; text-decoration-color: #f8f8f2; background-color: #272822\">(</span><span style=\"color: #a6e22e; text-decoration-color: #a6e22e; background-color: #272822\">CREATE_PUZZLE_ANNOUNCEMENT</span><span style=\"color: #f8f8f2; text-decoration-color: #f8f8f2; background-color: #272822\">  </span><span style=\"color: #ae81ff; text-decoration-color: #ae81ff; background-color: #272822\">0</span><span style=\"color: #f8f8f2; text-decoration-color: #f8f8f2; background-color: #272822\">x6b5454a67ac3443d16afb8929fff8357d50d854f4a687e8f3f325696acf4f2da)</span><span style=\"background-color: #272822\">                   </span>\n",
       "</pre>\n"
      ],
      "text/plain": [
       "\u001b[38;2;248;248;242;48;2;39;40;34m(\u001b[0m\u001b[38;2;166;226;46;48;2;39;40;34mCREATE_PUZZLE_ANNOUNCEMENT\u001b[0m\u001b[38;2;248;248;242;48;2;39;40;34m  \u001b[0m\u001b[38;2;174;129;255;48;2;39;40;34m0\u001b[0m\u001b[38;2;248;248;242;48;2;39;40;34mx6b5454a67ac3443d16afb8929fff8357d50d854f4a687e8f3f325696acf4f2da\u001b[0m\u001b[38;2;248;248;242;48;2;39;40;34m)\u001b[0m\u001b[48;2;39;40;34m                   \u001b[0m\n"
      ]
     },
     "metadata": {},
     "output_type": "display_data"
    },
    {
     "data": {
      "text/html": [
       "<pre style=\"white-space:pre;overflow-x:auto;line-height:normal;font-family:Menlo,'DejaVu Sans Mono',consolas,'Courier New',monospace\"><span style=\"color: #f8f8f2; text-decoration-color: #f8f8f2; background-color: #272822\">(</span><span style=\"color: #a6e22e; text-decoration-color: #a6e22e; background-color: #272822\">CREATE_COIN</span><span style=\"color: #f8f8f2; text-decoration-color: #f8f8f2; background-color: #272822\">  </span><span style=\"color: #ae81ff; text-decoration-color: #ae81ff; background-color: #272822\">0</span><span style=\"color: #f8f8f2; text-decoration-color: #f8f8f2; background-color: #272822\">x6c370f6e7010c33e428925d082732d49c785be3d5bf4f29d535d90f61d1deb2e </span><span style=\"color: #ae81ff; text-decoration-color: #ae81ff; background-color: #272822\">0</span><span style=\"color: #f8f8f2; text-decoration-color: #f8f8f2; background-color: #272822\">x0bdfd63e00 ())</span><span style=\"background-color: #272822\">                  </span>\n",
       "</pre>\n"
      ],
      "text/plain": [
       "\u001b[38;2;248;248;242;48;2;39;40;34m(\u001b[0m\u001b[38;2;166;226;46;48;2;39;40;34mCREATE_COIN\u001b[0m\u001b[38;2;248;248;242;48;2;39;40;34m  \u001b[0m\u001b[38;2;174;129;255;48;2;39;40;34m0\u001b[0m\u001b[38;2;248;248;242;48;2;39;40;34mx6c370f6e7010c33e428925d082732d49c785be3d5bf4f29d535d90f61d1deb2e\u001b[0m\u001b[38;2;248;248;242;48;2;39;40;34m \u001b[0m\u001b[38;2;174;129;255;48;2;39;40;34m0\u001b[0m\u001b[38;2;248;248;242;48;2;39;40;34mx0bdfd63e00\u001b[0m\u001b[38;2;248;248;242;48;2;39;40;34m \u001b[0m\u001b[38;2;248;248;242;48;2;39;40;34m(\u001b[0m\u001b[38;2;248;248;242;48;2;39;40;34m)\u001b[0m\u001b[38;2;248;248;242;48;2;39;40;34m)\u001b[0m\u001b[48;2;39;40;34m                  \u001b[0m\n"
      ]
     },
     "metadata": {},
     "output_type": "display_data"
    }
   ],
   "source": [
    "print_conditions(coin_spend.puzzle_reveal.to_program(), coin_spend.solution.to_program())"
   ]
  }
 ],
 "metadata": {
  "kernelspec": {
   "display_name": "Python 3 (ipykernel)",
   "language": "python",
   "name": "python3"
  },
  "language_info": {
   "codemirror_mode": {
    "name": "ipython",
    "version": 3
   },
   "file_extension": ".py",
   "mimetype": "text/x-python",
   "name": "python",
   "nbconvert_exporter": "python",
   "pygments_lexer": "ipython3",
   "version": "3.11.2"
  }
 },
 "nbformat": 4,
 "nbformat_minor": 5
}
