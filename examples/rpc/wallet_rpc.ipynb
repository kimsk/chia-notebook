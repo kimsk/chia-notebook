{
 "cells": [
  {
   "cell_type": "code",
   "execution_count": 1,
   "id": "9c95114a-dc6f-40d7-9e1d-9d1ea2e1fb83",
   "metadata": {
    "tags": []
   },
   "outputs": [],
   "source": [
    "chia_root = Path('/Users/karlkim/.chia/mainnet/')\n",
    "chia_config = load_config(chia_root, \"config.yaml\")\n",
    "self_hostname = chia_config[\"self_hostname\"]\n",
    "wallet_rpc_port = chia_config[\"wallet\"][\"rpc_port\"]"
   ]
  },
  {
   "cell_type": "code",
   "execution_count": 6,
   "id": "dbe078b7-36c3-4d04-9dc8-49356e906dc6",
   "metadata": {
    "tags": []
   },
   "outputs": [],
   "source": [
    "@with_wallet_rpc_client(self_hostname, wallet_rpc_port, chia_root, chia_config)\n",
    "async def get_height_info(wallet_client):\n",
    "    return await wallet_client.get_height_info()"
   ]
  },
  {
   "cell_type": "code",
   "execution_count": 8,
   "id": "d2e3c6e3-abdd-4e71-aa95-5bd9d57aa6c9",
   "metadata": {
    "tags": []
   },
   "outputs": [
    {
     "data": {
      "text/plain": [
       "3477193"
      ]
     },
     "execution_count": 8,
     "metadata": {},
     "output_type": "execute_result"
    }
   ],
   "source": [
    "await get_height_info()"
   ]
  }
 ],
 "metadata": {
  "kernelspec": {
   "display_name": "Python 3 (ipykernel)",
   "language": "python",
   "name": "python3"
  },
  "language_info": {
   "codemirror_mode": {
    "name": "ipython",
    "version": 3
   },
   "file_extension": ".py",
   "mimetype": "text/x-python",
   "name": "python",
   "nbconvert_exporter": "python",
   "pygments_lexer": "ipython3",
   "version": "3.11.2"
  }
 },
 "nbformat": 4,
 "nbformat_minor": 5
}
