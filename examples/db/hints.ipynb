{
 "cells": [
  {
   "cell_type": "code",
   "execution_count": 1,
   "id": "82a7e697-b0c2-4c12-b5ac-d94db2c9c50b",
   "metadata": {
    "tags": []
   },
   "outputs": [],
   "source": [
    "mainnet_db_path = Path('/Users/karlkim/.chia/mainnet/db/blockchain_v2_mainnet.sqlite')"
   ]
  },
  {
   "cell_type": "code",
   "execution_count": 2,
   "id": "22773608-ab8a-4442-9611-ddd42750fc8a",
   "metadata": {
    "tags": []
   },
   "outputs": [],
   "source": [
    "@with_db_connection(mainnet_db_path)\n",
    "async def display_coins_with_hint(conn, hint: bytes32):\n",
    "    table = Table(show_header=True, header_style=\"bold magenta\", box=box.ASCII)\n",
    "    table.add_column(\"Coin Name\", style=\"dim\")\n",
    "    table.add_column(\"Hint\")\n",
    "    table.add_column(\"Address\")\n",
    "    \n",
    "    query = \"SELECT coin_id, hint FROM hints WHERE hint = ? LIMIT 5\"\n",
    "    async with conn.execute(query, (hint,)) as cursor:\n",
    "        async for row in cursor:\n",
    "            coin_id = row[0]\n",
    "            hint = row[1]\n",
    "            addr = encode_puzzle_hash(hint, prefix='xch')\n",
    "            table.add_row(\n",
    "                coin_id.hex(),\n",
    "                hint.hex(),\n",
    "                addr\n",
    "            )\n",
    "    Console().print(table)"
   ]
  },
  {
   "cell_type": "code",
   "execution_count": 3,
   "id": "ed78add2-9f20-45c8-a9ea-99e98e2e2db4",
   "metadata": {
    "tags": []
   },
   "outputs": [
    {
     "data": {
      "text/html": [
       "<pre style=\"white-space:pre;overflow-x:auto;line-height:normal;font-family:Menlo,'DejaVu Sans Mono',consolas,'Courier New',monospace\">+-----------------------------------------------------------------------------------------------------------------+\n",
       "|<span style=\"color: #800080; text-decoration-color: #800080; font-weight: bold\"> Coin Name                           </span>|<span style=\"color: #800080; text-decoration-color: #800080; font-weight: bold\"> Hint                                </span>|<span style=\"color: #800080; text-decoration-color: #800080; font-weight: bold\"> Address                             </span>|\n",
       "|-------------------------------------+-------------------------------------+-------------------------------------|\n",
       "|<span style=\"color: #7f7f7f; text-decoration-color: #7f7f7f\"> a931c01a01d27a63646b77d921e7c0364f… </span>| 9e4284e7d4aff7a3e393d167e0a9cc70d9… | xch1nepgfe754lm68cun69n7p2wvwrvcnl… |\n",
       "|<span style=\"color: #7f7f7f; text-decoration-color: #7f7f7f\"> 9a72530e1a5649fa53de3fd87465bba6f7… </span>| 9e4284e7d4aff7a3e393d167e0a9cc70d9… | xch1nepgfe754lm68cun69n7p2wvwrvcnl… |\n",
       "|<span style=\"color: #7f7f7f; text-decoration-color: #7f7f7f\"> d6025d8ea19f4aa3e37c7661c8a06a2873… </span>| 9e4284e7d4aff7a3e393d167e0a9cc70d9… | xch1nepgfe754lm68cun69n7p2wvwrvcnl… |\n",
       "|<span style=\"color: #7f7f7f; text-decoration-color: #7f7f7f\"> 63381fe88d18439f47e46b2b82272fe7bd… </span>| 9e4284e7d4aff7a3e393d167e0a9cc70d9… | xch1nepgfe754lm68cun69n7p2wvwrvcnl… |\n",
       "|<span style=\"color: #7f7f7f; text-decoration-color: #7f7f7f\"> 090a4de50b1cd2df9927f08310d8adaebc… </span>| 9e4284e7d4aff7a3e393d167e0a9cc70d9… | xch1nepgfe754lm68cun69n7p2wvwrvcnl… |\n",
       "+-----------------------------------------------------------------------------------------------------------------+\n",
       "</pre>\n"
      ],
      "text/plain": [
       "+-----------------------------------------------------------------------------------------------------------------+\n",
       "|\u001b[1;35m \u001b[0m\u001b[1;35mCoin Name                          \u001b[0m\u001b[1;35m \u001b[0m|\u001b[1;35m \u001b[0m\u001b[1;35mHint                               \u001b[0m\u001b[1;35m \u001b[0m|\u001b[1;35m \u001b[0m\u001b[1;35mAddress                            \u001b[0m\u001b[1;35m \u001b[0m|\n",
       "|-------------------------------------+-------------------------------------+-------------------------------------|\n",
       "|\u001b[2m \u001b[0m\u001b[2ma931c01a01d27a63646b77d921e7c0364f…\u001b[0m\u001b[2m \u001b[0m| 9e4284e7d4aff7a3e393d167e0a9cc70d9… | xch1nepgfe754lm68cun69n7p2wvwrvcnl… |\n",
       "|\u001b[2m \u001b[0m\u001b[2m9a72530e1a5649fa53de3fd87465bba6f7…\u001b[0m\u001b[2m \u001b[0m| 9e4284e7d4aff7a3e393d167e0a9cc70d9… | xch1nepgfe754lm68cun69n7p2wvwrvcnl… |\n",
       "|\u001b[2m \u001b[0m\u001b[2md6025d8ea19f4aa3e37c7661c8a06a2873…\u001b[0m\u001b[2m \u001b[0m| 9e4284e7d4aff7a3e393d167e0a9cc70d9… | xch1nepgfe754lm68cun69n7p2wvwrvcnl… |\n",
       "|\u001b[2m \u001b[0m\u001b[2m63381fe88d18439f47e46b2b82272fe7bd…\u001b[0m\u001b[2m \u001b[0m| 9e4284e7d4aff7a3e393d167e0a9cc70d9… | xch1nepgfe754lm68cun69n7p2wvwrvcnl… |\n",
       "|\u001b[2m \u001b[0m\u001b[2m090a4de50b1cd2df9927f08310d8adaebc…\u001b[0m\u001b[2m \u001b[0m| 9e4284e7d4aff7a3e393d167e0a9cc70d9… | xch1nepgfe754lm68cun69n7p2wvwrvcnl… |\n",
       "+-----------------------------------------------------------------------------------------------------------------+\n"
      ]
     },
     "metadata": {},
     "output_type": "display_data"
    }
   ],
   "source": [
    "await display_coins_with_hint(bytes32.from_hexstr(\"9e4284e7d4aff7a3e393d167e0a9cc70d989ff35fa8fbda045c45302e7c0ae80\"))"
   ]
  }
 ],
 "metadata": {
  "kernelspec": {
   "display_name": "Python 3 (ipykernel)",
   "language": "python",
   "name": "python3"
  },
  "language_info": {
   "codemirror_mode": {
    "name": "ipython",
    "version": 3
   },
   "file_extension": ".py",
   "mimetype": "text/x-python",
   "name": "python",
   "nbconvert_exporter": "python",
   "pygments_lexer": "ipython3",
   "version": "3.11.2"
  }
 },
 "nbformat": 4,
 "nbformat_minor": 5
}
