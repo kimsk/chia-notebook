{
 "cells": [
  {
   "cell_type": "code",
   "execution_count": 1,
   "id": "127c3f14-5d7e-4a32-9c8b-6d1b5e3aa2c3",
   "metadata": {
    "tags": []
   },
   "outputs": [],
   "source": [
    "wallet_db = '/Users/karlkim/.chia/testnet10/wallet/db/blockchain_wallet_v2_r1_testnet10_2068422572.sqlite'\n",
    "@with_db_connection(wallet_db)\n",
    "async def get_coin_names_by_wallet_id(conn, wallet_id):\n",
    "    coins = []\n",
    "    query = \"SELECT coin_parent, puzzle_hash, amount FROM coin_record WHERE wallet_id=?\"\n",
    "    async with conn.execute(query, (wallet_id,)) as cursor:\n",
    "        async for row in cursor:\n",
    "            coin = Coin(bytes.fromhex(row[0]), bytes.fromhex(row[1]), int.from_bytes(row[2], \"big\"))\n",
    "            coins.append(coin)\n",
    "    return coins\n",
    "coins = await get_coin_names_by_wallet_id(1)"
   ]
  },
  {
   "cell_type": "code",
   "execution_count": 2,
   "id": "0f07d704-4dc2-4cc8-a34b-fbedfd99ca78",
   "metadata": {
    "tags": []
   },
   "outputs": [
    {
     "data": {
      "text/html": [
       "<pre style=\"white-space:pre;overflow-x:auto;line-height:normal;font-family:Menlo,'DejaVu Sans Mono',consolas,'Courier New',monospace\">+-----------------------------------------------------------------------------------+\n",
       "|<span style=\"color: #800080; text-decoration-color: #800080; font-weight: bold\"> Coin Name                                                        </span>|<span style=\"color: #800080; text-decoration-color: #800080; font-weight: bold\"> Amount         </span>|\n",
       "|------------------------------------------------------------------+----------------|\n",
       "|<span style=\"color: #7f7f7f; text-decoration-color: #7f7f7f\"> eb79036b6f55692b56fe9bfd7b8028fddbeb0d730666957400ac71a4b1627c5b </span>| 10000000000000 |\n",
       "|<span style=\"color: #7f7f7f; text-decoration-color: #7f7f7f\"> 2844cd3578ea58014befe5311bbf74587da8663767bf7b037923de7ec294e82b </span>| 10000000000000 |\n",
       "|<span style=\"color: #7f7f7f; text-decoration-color: #7f7f7f\"> d3f33700d7aa4515f5226e0283cc8426bee8ca2dfe4589cde5622b7d463cc88a </span>| 10000000000000 |\n",
       "|<span style=\"color: #7f7f7f; text-decoration-color: #7f7f7f\"> 35aa31280bef06cf5e56da3501187e4c552b0865e47e94998fbefbc78f3c897b </span>| 10000000000000 |\n",
       "|<span style=\"color: #7f7f7f; text-decoration-color: #7f7f7f\"> 0d09813ebe77b19b22fbb8e316f62bc611b99e424ba106b864d8056c675edb1d </span>| 10000000000000 |\n",
       "|<span style=\"color: #7f7f7f; text-decoration-color: #7f7f7f\"> e44d4645a1b56f03bbb4e81ad0f4305964e829ec0c9fe6a396c44b9f3183abb8 </span>| 1000000000000  |\n",
       "|<span style=\"color: #7f7f7f; text-decoration-color: #7f7f7f\"> 55a667763e0e261ce006e6457cba043c8750f5f8ec6e26587697b9dc5c92d663 </span>| 998999999998   |\n",
       "|<span style=\"color: #7f7f7f; text-decoration-color: #7f7f7f\"> 64f6e1761677aea16c3ccc7441670e033ff393642f2cf4b586e091966ac074bb </span>| 999499999999   |\n",
       "|<span style=\"color: #7f7f7f; text-decoration-color: #7f7f7f\"> 2bfab89e08a667622a8ccc9716991c486e7e7f625066105f43f204534292e70a </span>| 9999990000000  |\n",
       "|<span style=\"color: #7f7f7f; text-decoration-color: #7f7f7f\"> 4d15fb6b5a9cf1907aab58bcb6d680a0cff18813a84c06be52abc26a876cf14d </span>| 998489999998   |\n",
       "|<span style=\"color: #7f7f7f; text-decoration-color: #7f7f7f\"> 8bee83c3d0be8ebdd7aa2363eac868e2beceb84da6f2646e0a1c8e40f3031ec3 </span>| 15000000000000 |\n",
       "|<span style=\"color: #7f7f7f; text-decoration-color: #7f7f7f\"> 16f53850e1bab78a20323d420146729e950f733890fd769961be2470d415847f </span>| 247989999998   |\n",
       "|<span style=\"color: #7f7f7f; text-decoration-color: #7f7f7f\"> 181763004d7453a0c15f47ebf1206cec8cdf49907d67f08b30efdec0fa27d4bd </span>| 20000000000000 |\n",
       "|<span style=\"color: #7f7f7f; text-decoration-color: #7f7f7f\"> e0c02796b89c00e4b4eaae24189b471be927c221552235182f98204a8f36391a </span>| 19999500000000 |\n",
       "|<span style=\"color: #7f7f7f; text-decoration-color: #7f7f7f\"> 496111cc99ab65a419ccbf06c11b9be1532f106f2ea8d17d8a5361fe03f5afa1 </span>| 9999000000000  |\n",
       "|<span style=\"color: #7f7f7f; text-decoration-color: #7f7f7f\"> a469be7a61728efd0e70425bf2b27e652036fadea0c942029088ace480a2fb35 </span>| 5880000000000  |\n",
       "|<span style=\"color: #7f7f7f; text-decoration-color: #7f7f7f\"> 6e9c6b38607ef974880636c0ccf256987ab90b4ba2424e59ab1fc6f890418f0c </span>| 9998500000000  |\n",
       "|<span style=\"color: #7f7f7f; text-decoration-color: #7f7f7f\"> dea7ecab0c111c3a4ec335e37868a5fdb15ca6dfd57dbdc1399ec01072b897a6 </span>| 9999500000000  |\n",
       "|<span style=\"color: #7f7f7f; text-decoration-color: #7f7f7f\"> 60b49d73e4c9988e988e813198f6c36ac8ad40abf03ddeaf6027d3b7b214ac78 </span>| 10000000000000 |\n",
       "|<span style=\"color: #7f7f7f; text-decoration-color: #7f7f7f\"> d5be930591abd00b53cc25e11ef85b08ea679180957ab1c082c80e91ad559461 </span>| 10000000000000 |\n",
       "|<span style=\"color: #7f7f7f; text-decoration-color: #7f7f7f\"> 40845d01e0bf4fc8812feded6337914c4908c6311f6827a8b1c42d9ac27c663f </span>| 120000000000   |\n",
       "|<span style=\"color: #7f7f7f; text-decoration-color: #7f7f7f\"> 59643ba430c75166a929ba8b305cc6d6b8d8795e5dc6071cd380e60c99fb1a81 </span>| 1000000000000  |\n",
       "|<span style=\"color: #7f7f7f; text-decoration-color: #7f7f7f\"> d28c715784b5ffdef089ba221efe23ea2b5a19a1fcccd650531fe0a266271814 </span>| 4877250000000  |\n",
       "|<span style=\"color: #7f7f7f; text-decoration-color: #7f7f7f\"> bc3ddc4391fe3be6a1a7a36a8d295e8f6b33f3d92bcf5fee1014048ffea7d4c4 </span>| 9998000000000  |\n",
       "|<span style=\"color: #7f7f7f; text-decoration-color: #7f7f7f\"> e7845935e19bb994588814442cabb45e8aa7aaeccaec8a376985ec858603817f </span>| 9997500000000  |\n",
       "|<span style=\"color: #7f7f7f; text-decoration-color: #7f7f7f\"> fa764517f2d212c2467f4fb613649524509fd0f4e259775970bd0eb0e5353d45 </span>| 117250000000   |\n",
       "+-----------------------------------------------------------------------------------+\n",
       "</pre>\n"
      ],
      "text/plain": [
       "+-----------------------------------------------------------------------------------+\n",
       "|\u001b[1;35m \u001b[0m\u001b[1;35mCoin Name                                                       \u001b[0m\u001b[1;35m \u001b[0m|\u001b[1;35m \u001b[0m\u001b[1;35mAmount        \u001b[0m\u001b[1;35m \u001b[0m|\n",
       "|------------------------------------------------------------------+----------------|\n",
       "|\u001b[2m \u001b[0m\u001b[2meb79036b6f55692b56fe9bfd7b8028fddbeb0d730666957400ac71a4b1627c5b\u001b[0m\u001b[2m \u001b[0m| 10000000000000 |\n",
       "|\u001b[2m \u001b[0m\u001b[2m2844cd3578ea58014befe5311bbf74587da8663767bf7b037923de7ec294e82b\u001b[0m\u001b[2m \u001b[0m| 10000000000000 |\n",
       "|\u001b[2m \u001b[0m\u001b[2md3f33700d7aa4515f5226e0283cc8426bee8ca2dfe4589cde5622b7d463cc88a\u001b[0m\u001b[2m \u001b[0m| 10000000000000 |\n",
       "|\u001b[2m \u001b[0m\u001b[2m35aa31280bef06cf5e56da3501187e4c552b0865e47e94998fbefbc78f3c897b\u001b[0m\u001b[2m \u001b[0m| 10000000000000 |\n",
       "|\u001b[2m \u001b[0m\u001b[2m0d09813ebe77b19b22fbb8e316f62bc611b99e424ba106b864d8056c675edb1d\u001b[0m\u001b[2m \u001b[0m| 10000000000000 |\n",
       "|\u001b[2m \u001b[0m\u001b[2me44d4645a1b56f03bbb4e81ad0f4305964e829ec0c9fe6a396c44b9f3183abb8\u001b[0m\u001b[2m \u001b[0m| 1000000000000  |\n",
       "|\u001b[2m \u001b[0m\u001b[2m55a667763e0e261ce006e6457cba043c8750f5f8ec6e26587697b9dc5c92d663\u001b[0m\u001b[2m \u001b[0m| 998999999998   |\n",
       "|\u001b[2m \u001b[0m\u001b[2m64f6e1761677aea16c3ccc7441670e033ff393642f2cf4b586e091966ac074bb\u001b[0m\u001b[2m \u001b[0m| 999499999999   |\n",
       "|\u001b[2m \u001b[0m\u001b[2m2bfab89e08a667622a8ccc9716991c486e7e7f625066105f43f204534292e70a\u001b[0m\u001b[2m \u001b[0m| 9999990000000  |\n",
       "|\u001b[2m \u001b[0m\u001b[2m4d15fb6b5a9cf1907aab58bcb6d680a0cff18813a84c06be52abc26a876cf14d\u001b[0m\u001b[2m \u001b[0m| 998489999998   |\n",
       "|\u001b[2m \u001b[0m\u001b[2m8bee83c3d0be8ebdd7aa2363eac868e2beceb84da6f2646e0a1c8e40f3031ec3\u001b[0m\u001b[2m \u001b[0m| 15000000000000 |\n",
       "|\u001b[2m \u001b[0m\u001b[2m16f53850e1bab78a20323d420146729e950f733890fd769961be2470d415847f\u001b[0m\u001b[2m \u001b[0m| 247989999998   |\n",
       "|\u001b[2m \u001b[0m\u001b[2m181763004d7453a0c15f47ebf1206cec8cdf49907d67f08b30efdec0fa27d4bd\u001b[0m\u001b[2m \u001b[0m| 20000000000000 |\n",
       "|\u001b[2m \u001b[0m\u001b[2me0c02796b89c00e4b4eaae24189b471be927c221552235182f98204a8f36391a\u001b[0m\u001b[2m \u001b[0m| 19999500000000 |\n",
       "|\u001b[2m \u001b[0m\u001b[2m496111cc99ab65a419ccbf06c11b9be1532f106f2ea8d17d8a5361fe03f5afa1\u001b[0m\u001b[2m \u001b[0m| 9999000000000  |\n",
       "|\u001b[2m \u001b[0m\u001b[2ma469be7a61728efd0e70425bf2b27e652036fadea0c942029088ace480a2fb35\u001b[0m\u001b[2m \u001b[0m| 5880000000000  |\n",
       "|\u001b[2m \u001b[0m\u001b[2m6e9c6b38607ef974880636c0ccf256987ab90b4ba2424e59ab1fc6f890418f0c\u001b[0m\u001b[2m \u001b[0m| 9998500000000  |\n",
       "|\u001b[2m \u001b[0m\u001b[2mdea7ecab0c111c3a4ec335e37868a5fdb15ca6dfd57dbdc1399ec01072b897a6\u001b[0m\u001b[2m \u001b[0m| 9999500000000  |\n",
       "|\u001b[2m \u001b[0m\u001b[2m60b49d73e4c9988e988e813198f6c36ac8ad40abf03ddeaf6027d3b7b214ac78\u001b[0m\u001b[2m \u001b[0m| 10000000000000 |\n",
       "|\u001b[2m \u001b[0m\u001b[2md5be930591abd00b53cc25e11ef85b08ea679180957ab1c082c80e91ad559461\u001b[0m\u001b[2m \u001b[0m| 10000000000000 |\n",
       "|\u001b[2m \u001b[0m\u001b[2m40845d01e0bf4fc8812feded6337914c4908c6311f6827a8b1c42d9ac27c663f\u001b[0m\u001b[2m \u001b[0m| 120000000000   |\n",
       "|\u001b[2m \u001b[0m\u001b[2m59643ba430c75166a929ba8b305cc6d6b8d8795e5dc6071cd380e60c99fb1a81\u001b[0m\u001b[2m \u001b[0m| 1000000000000  |\n",
       "|\u001b[2m \u001b[0m\u001b[2md28c715784b5ffdef089ba221efe23ea2b5a19a1fcccd650531fe0a266271814\u001b[0m\u001b[2m \u001b[0m| 4877250000000  |\n",
       "|\u001b[2m \u001b[0m\u001b[2mbc3ddc4391fe3be6a1a7a36a8d295e8f6b33f3d92bcf5fee1014048ffea7d4c4\u001b[0m\u001b[2m \u001b[0m| 9998000000000  |\n",
       "|\u001b[2m \u001b[0m\u001b[2me7845935e19bb994588814442cabb45e8aa7aaeccaec8a376985ec858603817f\u001b[0m\u001b[2m \u001b[0m| 9997500000000  |\n",
       "|\u001b[2m \u001b[0m\u001b[2mfa764517f2d212c2467f4fb613649524509fd0f4e259775970bd0eb0e5353d45\u001b[0m\u001b[2m \u001b[0m| 117250000000   |\n",
       "+-----------------------------------------------------------------------------------+\n"
      ]
     },
     "metadata": {},
     "output_type": "display_data"
    }
   ],
   "source": [
    "table = Table(show_header=True, header_style=\"bold magenta\", box=box.ASCII)\n",
    "table.add_column(\"Coin Name\", style=\"dim\")\n",
    "table.add_column(\"Amount\")\n",
    "for coin in coins:\n",
    "    coin_name = coin.name().hex()\n",
    "    table.add_row(\n",
    "        coin_name, f\"{coin.amount}\"\n",
    "    )\n",
    "Console().print(table)"
   ]
  },
  {
   "cell_type": "code",
   "execution_count": null,
   "id": "d6dc3c13-58ea-4968-9ea9-8011a1e6c7f2",
   "metadata": {},
   "outputs": [],
   "source": []
  }
 ],
 "metadata": {
  "kernelspec": {
   "display_name": "Python 3 (ipykernel)",
   "language": "python",
   "name": "python3"
  },
  "language_info": {
   "codemirror_mode": {
    "name": "ipython",
    "version": 3
   },
   "file_extension": ".py",
   "mimetype": "text/x-python",
   "name": "python",
   "nbconvert_exporter": "python",
   "pygments_lexer": "ipython3",
   "version": "3.11.2"
  }
 },
 "nbformat": 4,
 "nbformat_minor": 5
}
