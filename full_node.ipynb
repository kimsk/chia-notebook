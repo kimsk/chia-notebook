{
 "cells": [
  {
   "cell_type": "code",
   "execution_count": 13,
   "id": "666c8a7f-a3e8-43c7-9830-5c31ff567d0f",
   "metadata": {},
   "outputs": [],
   "source": [
    "from chia.util.config import load_config\n",
    "from chia.util.default_root import DEFAULT_ROOT_PATH\n",
    "from chia.rpc.full_node_rpc_client import FullNodeRpcClient\n",
    "from chia.util.ints import uint16"
   ]
  },
  {
   "cell_type": "code",
   "execution_count": 4,
   "id": "093f595a-ad44-43ca-a21e-b78e8e29fe9e",
   "metadata": {},
   "outputs": [],
   "source": [
    "# config/config.yaml\n",
    "config = load_config(DEFAULT_ROOT_PATH, \"config.yaml\")\n",
    "selected_network = config[\"selected_network\"]\n",
    "genesis_challenge = config[\"farmer\"][\"network_overrides\"][\"constants\"][selected_network][\"GENESIS_CHALLENGE\"]\n",
    "\n",
    "# print(f'network: {selected_network}')\n",
    "self_hostname = \"host.docker.internal\" #config[\"self_hostname\"] # localhost\n",
    "full_node_rpc_port = config[\"full_node\"][\"rpc_port\"] # 8555"
   ]
  },
  {
   "cell_type": "code",
   "execution_count": 14,
   "id": "f82526f8-c17c-44e4-9447-f24120e7fd75",
   "metadata": {},
   "outputs": [],
   "source": [
    "async def get_blockchain_state_async():\n",
    "    try:\n",
    "        full_node_client = await FullNodeRpcClient.create(\n",
    "                self_hostname, uint16(full_node_rpc_port), DEFAULT_ROOT_PATH, config\n",
    "            )\n",
    "        state = await full_node_client.get_blockchain_state()\n",
    "        return state\n",
    "    finally:\n",
    "        full_node_client.close()\n",
    "        await full_node_client.await_closed()"
   ]
  },
  {
   "cell_type": "code",
   "execution_count": 15,
   "id": "fa294c28-a512-44cd-a66c-bba1ab9eaf4b",
   "metadata": {},
   "outputs": [
    {
     "data": {
      "text/plain": [
       "{'block_max_cost': 11000000000,\n",
       " 'difficulty': 327680,\n",
       " 'genesis_challenge_initialized': True,\n",
       " 'mempool_cost': 4837714260,\n",
       " 'mempool_max_total_cost': 110000000000,\n",
       " 'mempool_min_fees': {'cost_5000000': 0},\n",
       " 'mempool_size': 444,\n",
       " 'node_id': 'e700247617ea45737fac12f3c003cf7c80dc3e283f5de4e54cb24daf6d9cce24',\n",
       " 'peak': BlockRecord(header_hash=<bytes32: 8c1786acd13b97145c7b62bc1cea2b1417c8c7926ad273a3ad92f80bc6719a48>, prev_hash=<bytes32: 8e819d272d9b8d44fba694a792d1a43e3d1f5afb143a11bc16cb56ec31e17f6a>, height=964222, weight=63037333556, total_iters=2221865303329, signage_point_index=40, challenge_vdf_output=ClassgroupElement(data=<bytes100: 0300d18321dc5a72425a1f2f0713243f1c436202035d33486f152d6816a726d5046d76fa17c2950155b6589ffcac52a631b6d0af237a5a4c974a6fb669a81555bd24b5cd463b43d818cbac8b6cd7202c1b398d5eb6d18f4dcf91e1ed40fd054a98060100>), infused_challenge_vdf_output=ClassgroupElement(data=<bytes100: 03005a6d144e3a93208e1f897a479a35fb80856c85087aa6a5702399e228cb9721e7ab4b112e18b78dcb6e94aeeb4309fc05fcbb207bc2bceb0a7cad9b97ca50a822818ab235dbe25d803303d53de593b68c88f263b937ce5d4b50f66da5113afa1a0100>), reward_infusion_new_challenge=<bytes32: ede56754ab121c631905dfc38ef554821a15766187944aaf4b018937d9a387d7>, challenge_block_info_hash=<bytes32: dd31d3dee20379821c774a6c2e016876fb36d3e374c70313e484879f34c6018b>, sub_slot_iters=72351744, pool_puzzle_hash=<bytes32: 3140ca9a6599285688263f44d443381bee53322bb7ae89230a48ae1c93391e06>, farmer_puzzle_hash=<bytes32: ae5286dc6640f2ed06676e5045f8ba4d1377efee983d00399a0477454178af80>, required_iters=1064225, deficit=0, overflow=False, prev_transaction_block_height=964219, timestamp=None, prev_transaction_block_hash=None, fees=None, reward_claims_incorporated=None, finished_challenge_slot_hashes=None, finished_infused_challenge_slot_hashes=None, finished_reward_slot_hashes=None, sub_epoch_summary_included=None),\n",
       " 'space': 615503409509601,\n",
       " 'sub_slot_iters': 72351744,\n",
       " 'sync': {'sync_mode': False,\n",
       "  'sync_progress_height': 0,\n",
       "  'sync_tip_height': 0,\n",
       "  'synced': True}}"
      ]
     },
     "execution_count": 15,
     "metadata": {},
     "output_type": "execute_result"
    }
   ],
   "source": [
    "await get_blockchain_state_async()"
   ]
  },
  {
   "cell_type": "code",
   "execution_count": null,
   "id": "0707364f-bd62-40c8-b436-9cb58f3556d7",
   "metadata": {},
   "outputs": [],
   "source": []
  }
 ],
 "metadata": {
  "kernelspec": {
   "display_name": "Python 3 (ipykernel)",
   "language": "python",
   "name": "python3"
  },
  "language_info": {
   "codemirror_mode": {
    "name": "ipython",
    "version": 3
   },
   "file_extension": ".py",
   "mimetype": "text/x-python",
   "name": "python",
   "nbconvert_exporter": "python",
   "pygments_lexer": "ipython3",
   "version": "3.9.12"
  }
 },
 "nbformat": 4,
 "nbformat_minor": 5
}
