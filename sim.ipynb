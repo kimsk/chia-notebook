{
 "cells": [
  {
   "cell_type": "code",
   "execution_count": 1,
   "id": "3ed587ac-bec3-4f96-b24a-dc9239425dd5",
   "metadata": {},
   "outputs": [],
   "source": [
    "from cdv.test import Network, Wallet"
   ]
  },
  {
   "cell_type": "code",
   "execution_count": 2,
   "id": "f955cf61-4d7b-4a3c-addc-d663b07d5d42",
   "metadata": {},
   "outputs": [
    {
     "data": {
      "text/plain": [
       "([], [])"
      ]
     },
     "execution_count": 2,
     "metadata": {},
     "output_type": "execute_result"
    }
   ],
   "source": [
    "network: Network =  await Network.create()\n",
    "await network.farm_block()"
   ]
  },
  {
   "cell_type": "code",
   "execution_count": 3,
   "id": "85df0625-5ea7-4f32-aa2f-2b9d80d4a6c0",
   "metadata": {},
   "outputs": [
    {
     "name": "stdout",
     "output_type": "stream",
     "text": [
      "alice pk:\taba7ed288dd79189bec34698a3437fa7a45f801596d397a4f70081a0956dcdbe998388bfa758f4d49fa421ce3850a6d8\n"
     ]
    }
   ],
   "source": [
    "alice: Wallet = network.make_wallet(\"alice\")\n",
    "print(f'alice pk:\\t{alice.pk()}')"
   ]
  },
  {
   "cell_type": "code",
   "execution_count": null,
   "id": "24eedccd-5b51-4473-a417-0c57e4cf782e",
   "metadata": {},
   "outputs": [],
   "source": []
  }
 ],
 "metadata": {
  "kernelspec": {
   "display_name": "Python 3 (ipykernel)",
   "language": "python",
   "name": "python3"
  },
  "language_info": {
   "codemirror_mode": {
    "name": "ipython",
    "version": 3
   },
   "file_extension": ".py",
   "mimetype": "text/x-python",
   "name": "python",
   "nbconvert_exporter": "python",
   "pygments_lexer": "ipython3",
   "version": "3.9.12"
  }
 },
 "nbformat": 4,
 "nbformat_minor": 5
}
