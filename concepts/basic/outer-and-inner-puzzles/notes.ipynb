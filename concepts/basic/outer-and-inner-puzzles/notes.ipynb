{
 "cells": [
  {
   "cell_type": "markdown",
   "id": "99067a36-a224-4594-9245-63f4de90791e",
   "metadata": {},
   "source": [
    "# Adding output of the inner puzzle with provided solution with `y`\n",
    "\n",
    "## Outer Puzzle ([add_x.clsp](add_x.clsp))\n",
    "```clojure\n",
    "; add output from inner puzzle with y\n",
    "(mod (\n",
    "        inner_puzzle\n",
    "        x\n",
    "        y\n",
    "    )\n",
    "    (+ (a inner_puzzle x) y)\n",
    ")\n",
    "```"
   ]
  },
  {
   "cell_type": "code",
   "execution_count": 7,
   "id": "f24085ab-cc14-44c0-ad2b-bda3c2c037ac",
   "metadata": {},
   "outputs": [
    {
     "name": "stdout",
     "output_type": "stream",
     "text": [
      "Beginning compilation of add_x.clsp...\n",
      "...Compilation finished\n",
      "(+ (a 2 5) 11)\n"
     ]
    }
   ],
   "source": [
    "%%bash\n",
    "cdv clsp build add_x.clsp\n",
    "cdv clsp disassemble add_x.clsp.hex"
   ]
  },
  {
   "cell_type": "markdown",
   "id": "07dd43ec-f95a-4c42-9902-75bc263fd068",
   "metadata": {},
   "source": [
    "## Inner Puzzle ([squre.clsp](square.clsp))\n",
    "```clojure\n",
    "(mod x \n",
    "     (* x x)\n",
    ")\n",
    "```"
   ]
  },
  {
   "cell_type": "code",
   "execution_count": 8,
   "id": "82579a1a-5bbe-4529-a456-58175e776d7f",
   "metadata": {},
   "outputs": [
    {
     "name": "stdout",
     "output_type": "stream",
     "text": [
      "Beginning compilation of square.clsp...\n",
      "...Compilation finished\n",
      "(* 1 1)\n"
     ]
    }
   ],
   "source": [
    "%%bash\n",
    "cdv clsp build square.clsp\n",
    "cdv clsp disassemble square.clsp.hex"
   ]
  },
  {
   "cell_type": "markdown",
   "id": "aa223782-49c6-45a4-be96-72fa81780c48",
   "metadata": {},
   "source": [
    "## Provide inner puzzle to outer puzzle"
   ]
  },
  {
   "cell_type": "code",
   "execution_count": 9,
   "id": "bd676ee1-0475-4d84-94ae-2adc48de7c51",
   "metadata": {},
   "outputs": [
    {
     "name": "stdout",
     "output_type": "stream",
     "text": [
      "14\n"
     ]
    }
   ],
   "source": [
    "%%bash\n",
    "brun '(+ (a 2 5) 11)' '((* 1 1) 2 10)'"
   ]
  },
  {
   "cell_type": "markdown",
   "id": "4ecd4bb9-3bfc-41e7-8591-154f0950edc9",
   "metadata": {},
   "source": [
    "## Currying inner puzzle"
   ]
  },
  {
   "cell_type": "code",
   "execution_count": 10,
   "id": "2a126e7d-604d-4975-8942-68350c9673df",
   "metadata": {},
   "outputs": [
    {
     "name": "stdout",
     "output_type": "stream",
     "text": [
      "(a (q 16 (a 2 5) 11) (c (q 18 1 1) 1))\n",
      "14\n"
     ]
    }
   ],
   "source": [
    "%%bash\n",
    "cdv clsp curry add_x.clsp.hex -a '(* 1 1)'\n",
    "brun '(a (q 16 (a 2 5) 11) (c (q 18 1 1) 1))' '(2 10)'"
   ]
  },
  {
   "cell_type": "markdown",
   "id": "34f87ba7-01cc-48f8-9392-21ac619901d0",
   "metadata": {},
   "source": [
    "# References\n",
    "- [Outer and Inner puzzles](https://chialisp.com/docs/common_functions#outer-and-inner-puzzles)\n",
    "- [try-chia/inner-outer-puzzle](https://github.com/kimsk/try-chia/tree/main/programming/chialisp/by-example/inner-outer-puzzle)"
   ]
  },
  {
   "cell_type": "code",
   "execution_count": null,
   "id": "f4c4cd8f-831f-4390-8701-a8add9f5a4d4",
   "metadata": {},
   "outputs": [],
   "source": []
  }
 ],
 "metadata": {
  "kernelspec": {
   "display_name": "Python 3 (ipykernel)",
   "language": "python",
   "name": "python3"
  },
  "language_info": {
   "codemirror_mode": {
    "name": "ipython",
    "version": 3
   },
   "file_extension": ".py",
   "mimetype": "text/x-python",
   "name": "python",
   "nbconvert_exporter": "python",
   "pygments_lexer": "ipython3",
   "version": "3.9.12"
  }
 },
 "nbformat": 4,
 "nbformat_minor": 5
}
