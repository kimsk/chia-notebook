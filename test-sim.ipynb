{
 "cells": [
  {
   "cell_type": "code",
   "execution_count": 1,
   "id": "37e42667-38ad-49de-997e-f3c58c0e1945",
   "metadata": {},
   "outputs": [],
   "source": [
    "import sys\n",
    "sys.path.insert(0, \"./code\")"
   ]
  },
  {
   "cell_type": "code",
   "execution_count": 2,
   "id": "79611962-ec1d-49c6-8e3a-a925de42d263",
   "metadata": {},
   "outputs": [],
   "source": [
    "import sim"
   ]
  },
  {
   "cell_type": "code",
   "execution_count": 3,
   "id": "96a5d4a5-a0c9-43cc-b7b7-9cfafe8c4663",
   "metadata": {},
   "outputs": [],
   "source": [
    "network = await sim.get_network_async()"
   ]
  },
  {
   "cell_type": "code",
   "execution_count": 4,
   "id": "be9fc007-d25c-4a76-9b66-8cfc080f0d5f",
   "metadata": {},
   "outputs": [],
   "source": [
    "alice = network.make_wallet(\"alice\")"
   ]
  },
  {
   "cell_type": "code",
   "execution_count": 5,
   "id": "f37defdf-ce9e-403c-bbfe-4d5d50df6890",
   "metadata": {},
   "outputs": [
    {
     "data": {
      "text/plain": [
       "([], [])"
      ]
     },
     "execution_count": 5,
     "metadata": {},
     "output_type": "execute_result"
    }
   ],
   "source": [
    "await network.farm_block(farmer=alice)"
   ]
  },
  {
   "cell_type": "code",
   "execution_count": 7,
   "id": "9e8ce092-77f6-451d-9d4d-fb54ed28c6eb",
   "metadata": {},
   "outputs": [
    {
     "name": "stdout",
     "output_type": "stream",
     "text": [
      "alice pk:\taba7ed288dd79189bec34698a3437fa7a45f801596d397a4f70081a0956dcdbe998388bfa758f4d49fa421ce3850a6d8\n"
     ]
    }
   ],
   "source": [
    "print(f'alice pk:\\t{alice.pk()}')"
   ]
  },
  {
   "cell_type": "code",
   "execution_count": 8,
   "id": "d0693505-4130-45a3-874a-ca58919157a4",
   "metadata": {},
   "outputs": [
    {
     "data": {
      "text/plain": [
       "2000000000000"
      ]
     },
     "execution_count": 8,
     "metadata": {},
     "output_type": "execute_result"
    }
   ],
   "source": [
    "alice.balance()"
   ]
  },
  {
   "cell_type": "code",
   "execution_count": 9,
   "id": "f86b382e-4e35-4142-b652-1a9924dbc438",
   "metadata": {},
   "outputs": [
    {
     "data": {
      "text/plain": [
       "{'peak': 1}"
      ]
     },
     "execution_count": 9,
     "metadata": {},
     "output_type": "execute_result"
    }
   ],
   "source": [
    "await network.get_blockchain_state()"
   ]
  },
  {
   "cell_type": "code",
   "execution_count": null,
   "id": "ac4de6e6-c3a5-4c43-b047-84fc5eade0a1",
   "metadata": {},
   "outputs": [],
   "source": []
  }
 ],
 "metadata": {
  "kernelspec": {
   "display_name": "Python 3 (ipykernel)",
   "language": "python",
   "name": "python3"
  },
  "language_info": {
   "codemirror_mode": {
    "name": "ipython",
    "version": 3
   },
   "file_extension": ".py",
   "mimetype": "text/x-python",
   "name": "python",
   "nbconvert_exporter": "python",
   "pygments_lexer": "ipython3",
   "version": "3.9.12"
  }
 },
 "nbformat": 4,
 "nbformat_minor": 5
}
