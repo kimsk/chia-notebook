{
 "cells": [
  {
   "cell_type": "code",
   "execution_count": 1,
   "id": "c4925163-6187-4b4f-8631-ef05c3189db4",
   "metadata": {},
   "outputs": [],
   "source": [
    "import sys\n",
    "sys.path.insert(0, \"/chia-utils\")\n",
    "from IPython.display import JSON\n",
    "\n",
    "from chia.types.condition_opcodes import ConditionOpcode\n",
    "from chia.types.blockchain_format.program import Program\n",
    "from chia.types.spend_bundle import SpendBundle\n",
    "\n",
    "from clvm_tools.binutils import disassemble\n",
    "\n",
    "import sim\n",
    "import standard_transaction"
   ]
  },
  {
   "cell_type": "code",
   "execution_count": 2,
   "id": "e805fc27-2af6-4be0-b523-adbb9a77c5fd",
   "metadata": {},
   "outputs": [],
   "source": [
    "# create sim network, alice's and bob's wallets\n",
    "network = await sim.get_network_async()\n",
    "alice = network.make_wallet(\"alice\")\n",
    "bob = network.make_wallet(\"bob\")"
   ]
  },
  {
   "cell_type": "code",
   "execution_count": 3,
   "id": "a7a8da1e-a651-4f40-89c7-b2767a1338da",
   "metadata": {},
   "outputs": [
    {
     "data": {
      "text/plain": [
       "2000000000000"
      ]
     },
     "execution_count": 3,
     "metadata": {},
     "output_type": "execute_result"
    }
   ],
   "source": [
    "# alice farms the block and have 2 XCH\n",
    "await network.farm_block(farmer=alice)\n",
    "alice.balance()"
   ]
  },
  {
   "cell_type": "code",
   "execution_count": 4,
   "id": "e706a290-ea52-40f0-a1bc-7e1a3133916d",
   "metadata": {},
   "outputs": [
    {
     "data": {
      "text/plain": [
       "0"
      ]
     },
     "execution_count": 4,
     "metadata": {},
     "output_type": "execute_result"
    }
   ],
   "source": [
    "# bob still has 0 mojos\n",
    "bob.balance()"
   ]
  },
  {
   "cell_type": "code",
   "execution_count": 5,
   "id": "29ef6a3f-d4fd-4f66-8c26-80cb0e4858ba",
   "metadata": {},
   "outputs": [
    {
     "data": {
      "application/json": {
       "amount": 1750000000000,
       "parent_coin_info": "0xe3b0c44298fc1c149afbf4c8996fb92400000000000000000000000000000001",
       "puzzle_hash": "0x4f45877796d7a64e192bcc9f899afeedae391f71af3afd7e15a0792c049d23d3"
      },
      "text/plain": [
       "<IPython.core.display.JSON object>"
      ]
     },
     "execution_count": 5,
     "metadata": {
      "application/json": {
       "expanded": false,
       "root": "root"
      }
     },
     "output_type": "execute_result"
    }
   ],
   "source": [
    "# retrieve one of alice's coin\n",
    "coin_records = await network.sim_client.get_coin_records_by_puzzle_hash(alice.puzzle_hash)\n",
    "amount = 1_000_000_000_000\n",
    "coin = next(cr.coin for cr in coin_records if cr.spent == False and cr.coin.amount > amount)\n",
    "JSON(coin.to_json_dict())"
   ]
  },
  {
   "cell_type": "code",
   "execution_count": 6,
   "id": "7b34eabf-bc30-4d1a-b80d-a9668475efca",
   "metadata": {},
   "outputs": [
    {
     "data": {
      "text/plain": [
       "'(51 0x87908e3f85bf4b55c7e7709915c2ce97a1e6ec1d227e54a04dbfee6862d546a5 0x00e8d4a51000)'"
      ]
     },
     "execution_count": 6,
     "metadata": {},
     "output_type": "execute_result"
    }
   ],
   "source": [
    "# create coin for bob and change back to alice.\n",
    "conditions = [\n",
    "    Program.to(\n",
    "            [\n",
    "                ConditionOpcode.CREATE_COIN,\n",
    "                bob.puzzle_hash,\n",
    "                amount,\n",
    "            ]\n",
    "        ),\n",
    "    Program.to(\n",
    "            [\n",
    "                ConditionOpcode.CREATE_COIN,\n",
    "                alice.puzzle_hash,\n",
    "                coin.amount - amount,\n",
    "            ]\n",
    "        )\n",
    "]\n",
    "disassemble(conditions[0])"
   ]
  },
  {
   "cell_type": "code",
   "execution_count": 7,
   "id": "0817efd7-ede5-4626-8c51-fe2b0acc2c83",
   "metadata": {},
   "outputs": [
    {
     "data": {
      "application/json": {
       "coin": {
        "amount": 1750000000000,
        "parent_coin_info": "0xe3b0c44298fc1c149afbf4c8996fb92400000000000000000000000000000001",
        "puzzle_hash": "0x4f45877796d7a64e192bcc9f899afeedae391f71af3afd7e15a0792c049d23d3"
       },
       "puzzle_reveal": "0xff02ffff01ff02ffff01ff02ffff03ff0bffff01ff02ffff03ffff09ff05ffff1dff0bffff1effff0bff0bffff02ff06ffff04ff02ffff04ff17ff8080808080808080ffff01ff02ff17ff2f80ffff01ff088080ff0180ffff01ff04ffff04ff04ffff04ff05ffff04ffff02ff06ffff04ff02ffff04ff17ff80808080ff80808080ffff02ff17ff2f808080ff0180ffff04ffff01ff32ff02ffff03ffff07ff0580ffff01ff0bffff0102ffff02ff06ffff04ff02ffff04ff09ff80808080ffff02ff06ffff04ff02ffff04ff0dff8080808080ffff01ff0bffff0101ff058080ff0180ff018080ffff04ffff01b0a042c855d234578415254b7870b711fb25e8f85beaa4a66bd0673d394c761fa156406c2e3bb375d5b18766d2a12cc918ff018080",
       "solution": "0xff80ffff01ffff33ffa087908e3f85bf4b55c7e7709915c2ce97a1e6ec1d227e54a04dbfee6862d546a5ff8600e8d4a5100080ffff33ffa04f45877796d7a64e192bcc9f899afeedae391f71af3afd7e15a0792c049d23d3ff8600ae9f7bcc008080ff8080"
      },
      "text/plain": [
       "<IPython.core.display.JSON object>"
      ]
     },
     "execution_count": 7,
     "metadata": {
      "application/json": {
       "expanded": false,
       "root": "root"
      }
     },
     "output_type": "execute_result"
    }
   ],
   "source": [
    "coin_spend, sig = standard_transaction.get_normal_coin_spend_and_sig(alice.sk_, coin, conditions)\n",
    "JSON(coin_spend.to_json_dict())"
   ]
  },
  {
   "cell_type": "code",
   "execution_count": 8,
   "id": "9020f014-c6f4-41be-b36a-31475fedb147",
   "metadata": {},
   "outputs": [
    {
     "data": {
      "text/plain": [
       "<G2Element a0a3b5d7540c1fa3deb60d9399e3e641be0ad556f47a2c394048387e985c11969e16062b993a888dcf039ace1cdbfded18288715843e91cf2fe9e1a22b46be3dc5e57a66678d234391ac34d47ef473fb9c038e308b024161fb12eeac403a836d>"
      ]
     },
     "execution_count": 8,
     "metadata": {},
     "output_type": "execute_result"
    }
   ],
   "source": [
    "sig"
   ]
  },
  {
   "cell_type": "code",
   "execution_count": 9,
   "id": "0a74eb66-41b2-4457-8a87-d3004b750dce",
   "metadata": {},
   "outputs": [
    {
     "data": {
      "application/json": {
       "aggregated_signature": "0xa0a3b5d7540c1fa3deb60d9399e3e641be0ad556f47a2c394048387e985c11969e16062b993a888dcf039ace1cdbfded18288715843e91cf2fe9e1a22b46be3dc5e57a66678d234391ac34d47ef473fb9c038e308b024161fb12eeac403a836d",
       "coin_solutions": [
        {
         "coin": {
          "amount": 1750000000000,
          "parent_coin_info": "0xe3b0c44298fc1c149afbf4c8996fb92400000000000000000000000000000001",
          "puzzle_hash": "0x4f45877796d7a64e192bcc9f899afeedae391f71af3afd7e15a0792c049d23d3"
         },
         "puzzle_reveal": "0xff02ffff01ff02ffff01ff02ffff03ff0bffff01ff02ffff03ffff09ff05ffff1dff0bffff1effff0bff0bffff02ff06ffff04ff02ffff04ff17ff8080808080808080ffff01ff02ff17ff2f80ffff01ff088080ff0180ffff01ff04ffff04ff04ffff04ff05ffff04ffff02ff06ffff04ff02ffff04ff17ff80808080ff80808080ffff02ff17ff2f808080ff0180ffff04ffff01ff32ff02ffff03ffff07ff0580ffff01ff0bffff0102ffff02ff06ffff04ff02ffff04ff09ff80808080ffff02ff06ffff04ff02ffff04ff0dff8080808080ffff01ff0bffff0101ff058080ff0180ff018080ffff04ffff01b0a042c855d234578415254b7870b711fb25e8f85beaa4a66bd0673d394c761fa156406c2e3bb375d5b18766d2a12cc918ff018080",
         "solution": "0xff80ffff01ffff33ffa087908e3f85bf4b55c7e7709915c2ce97a1e6ec1d227e54a04dbfee6862d546a5ff8600e8d4a5100080ffff33ffa04f45877796d7a64e192bcc9f899afeedae391f71af3afd7e15a0792c049d23d3ff8600ae9f7bcc008080ff8080"
        }
       ]
      },
      "text/plain": [
       "<IPython.core.display.JSON object>"
      ]
     },
     "execution_count": 9,
     "metadata": {
      "application/json": {
       "expanded": false,
       "root": "root"
      }
     },
     "output_type": "execute_result"
    }
   ],
   "source": [
    "spend_bundle = SpendBundle([coin_spend], sig)\n",
    "JSON(spend_bundle.to_json_dict())"
   ]
  },
  {
   "cell_type": "code",
   "execution_count": 10,
   "id": "17190ba8-1df1-44a2-946b-ea4ded721be0",
   "metadata": {},
   "outputs": [
    {
     "data": {
      "text/plain": [
       "{'additions': [Coin(parent_coin_info=<bytes32: 12d7b8c1654f82f2330059abc28e3240e863450706de7fdc518026f393f68bba>, puzzle_hash=<bytes32: 87908e3f85bf4b55c7e7709915c2ce97a1e6ec1d227e54a04dbfee6862d546a5>, amount=1000000000000),\n",
       "  Coin(parent_coin_info=<bytes32: 12d7b8c1654f82f2330059abc28e3240e863450706de7fdc518026f393f68bba>, puzzle_hash=<bytes32: 4f45877796d7a64e192bcc9f899afeedae391f71af3afd7e15a0792c049d23d3>, amount=750000000000)],\n",
       " 'removals': [Coin(parent_coin_info=<bytes32: e3b0c44298fc1c149afbf4c8996fb92400000000000000000000000000000001>, puzzle_hash=<bytes32: 4f45877796d7a64e192bcc9f899afeedae391f71af3afd7e15a0792c049d23d3>, amount=1750000000000)]}"
      ]
     },
     "execution_count": 10,
     "metadata": {},
     "output_type": "execute_result"
    }
   ],
   "source": [
    "result = await network.push_tx(spend_bundle)\n",
    "result"
   ]
  },
  {
   "cell_type": "code",
   "execution_count": 11,
   "id": "66ae1984-ce6b-4725-888a-250d5f45b81c",
   "metadata": {},
   "outputs": [
    {
     "data": {
      "text/plain": [
       "1000000000000"
      ]
     },
     "execution_count": 11,
     "metadata": {},
     "output_type": "execute_result"
    }
   ],
   "source": [
    "alice.balance()"
   ]
  },
  {
   "cell_type": "code",
   "execution_count": 12,
   "id": "d26e8f75-f577-4def-a58a-56a38f788b8d",
   "metadata": {},
   "outputs": [
    {
     "data": {
      "text/plain": [
       "1000000000000"
      ]
     },
     "execution_count": 12,
     "metadata": {},
     "output_type": "execute_result"
    }
   ],
   "source": [
    "bob.balance()"
   ]
  }
 ],
 "metadata": {
  "kernelspec": {
   "display_name": "Python 3 (ipykernel)",
   "language": "python",
   "name": "python3"
  },
  "language_info": {
   "codemirror_mode": {
    "name": "ipython",
    "version": 3
   },
   "file_extension": ".py",
   "mimetype": "text/x-python",
   "name": "python",
   "nbconvert_exporter": "python",
   "pygments_lexer": "ipython3",
   "version": "3.9.12"
  }
 },
 "nbformat": 4,
 "nbformat_minor": 5
}
