{
 "cells": [
  {
   "cell_type": "markdown",
   "id": "563c2c16-e842-4384-a455-06b97f3583a6",
   "metadata": {},
   "source": [
    "# Test Full Node"
   ]
  },
  {
   "cell_type": "code",
   "execution_count": 1,
   "id": "6f167510-bf07-440f-ac81-046237e0e876",
   "metadata": {},
   "outputs": [],
   "source": [
    "import sys\n",
    "sys.path.insert(0, \"/chia-utils\")\n",
    "\n",
    "import full_node"
   ]
  },
  {
   "cell_type": "code",
   "execution_count": 2,
   "id": "4cccf0a3-eed9-4c0d-a4cb-afbc2e1b9dcd",
   "metadata": {},
   "outputs": [
    {
     "data": {
      "text/plain": [
       "'host.docker.internal'"
      ]
     },
     "execution_count": 2,
     "metadata": {},
     "output_type": "execute_result"
    }
   ],
   "source": [
    "full_node.self_hostname"
   ]
  },
  {
   "cell_type": "code",
   "execution_count": 9,
   "id": "6bffc832-8d71-42a8-929c-cb2879801c45",
   "metadata": {},
   "outputs": [
    {
     "name": "stdout",
     "output_type": "stream",
     "text": [
      "<chia.rpc.full_node_rpc_client.FullNodeRpcClient object at 0x7f06e80a7610>\n"
     ]
    }
   ],
   "source": [
    "full_node_client = await full_node.get_full_node_client_async()\n",
    "print(full_node_client)"
   ]
  },
  {
   "cell_type": "code",
   "execution_count": 4,
   "id": "b610e4d9-296a-453b-a714-3dbb17d1a6da",
   "metadata": {},
   "outputs": [],
   "source": [
    "blockchain_state = await full_node_client.get_blockchain_state()"
   ]
  },
  {
   "cell_type": "code",
   "execution_count": 5,
   "id": "372d680c-f626-475c-91d3-c7df1b350e36",
   "metadata": {},
   "outputs": [
    {
     "data": {
      "text/plain": [
       "{'block_max_cost': 11000000000,\n",
       " 'difficulty': 296960,\n",
       " 'genesis_challenge_initialized': True,\n",
       " 'mempool_cost': 39278975348,\n",
       " 'mempool_max_total_cost': 110000000000,\n",
       " 'mempool_min_fees': {'cost_5000000': 0},\n",
       " 'mempool_size': 3492,\n",
       " 'node_id': 'e700247617ea45737fac12f3c003cf7c80dc3e283f5de4e54cb24daf6d9cce24',\n",
       " 'peak': BlockRecord(header_hash=<bytes32: ed76f6584200f3585c8835d34ee5ea4e2b8fe29e9418c943a891abaa9ddfa545>, prev_hash=<bytes32: 11132da61377f550814ecaecd08e6969ba0185ec3b55fff2cbb48cfd3993f799>, height=1000162, weight=78136188980, total_iters=2303225256531, signage_point_index=21, challenge_vdf_output=ClassgroupElement(data=<bytes100: 0300e140cd407a211ec9bdbedf2658e4d4872c15d289d6f15537c63b5b6dcb4f34cacf663ab3f5adee48ebe2272b48cf27308cc8f4c7dd475c49969b771e0ad86f244231d8766ffa5d49a704766876c6da362851f73dbba006d38db4bfa455e21c330201>), infused_challenge_vdf_output=ClassgroupElement(data=<bytes100: 01007360c3fbd6b5e32d9876423c8abd0954ad8d5ac23b1cf12647017998ab5d44b53f4a043061a8cfc026c72622ecca07db7d32e4743c7f727042bb51cefad1f306c1068f03eed22351706e602458023146ba7a796e27102cc368468dfd50c470011009>), reward_infusion_new_challenge=<bytes32: 757bcf1fbf0f637b819c8f3efb8f6690a4e72bb8a90046bf08962d59ceb82640>, challenge_block_info_hash=<bytes32: b88a27b0f943b7463e714c719fa2aafb0dd1f1602a21bfbb7dc9192f0e040ee8>, sub_slot_iters=71827456, pool_puzzle_hash=<bytes32: 3140ca9a6599285688263f44d443381bee53322bb7ae89230a48ae1c93391e06>, farmer_puzzle_hash=<bytes32: ae5286dc6640f2ed06676e5045f8ba4d1377efee983d00399a0477454178af80>, required_iters=612947, deficit=0, overflow=False, prev_transaction_block_height=1000161, timestamp=None, prev_transaction_block_hash=None, fees=None, reward_claims_incorporated=None, finished_challenge_slot_hashes=None, finished_infused_challenge_slot_hashes=None, finished_reward_slot_hashes=None, sub_epoch_summary_included=None),\n",
       " 'space': 524941282506493,\n",
       " 'sub_slot_iters': 71827456,\n",
       " 'sync': {'sync_mode': False,\n",
       "  'sync_progress_height': 0,\n",
       "  'sync_tip_height': 0,\n",
       "  'synced': True}}"
      ]
     },
     "execution_count": 5,
     "metadata": {},
     "output_type": "execute_result"
    }
   ],
   "source": [
    "blockchain_state"
   ]
  },
  {
   "cell_type": "code",
   "execution_count": 11,
   "id": "644b70d0-1e05-4414-bac4-c81fb71228c9",
   "metadata": {},
   "outputs": [
    {
     "data": {
      "text/plain": [
       "1000162"
      ]
     },
     "execution_count": 11,
     "metadata": {},
     "output_type": "execute_result"
    }
   ],
   "source": [
    "peak = blockchain_state['peak']\n",
    "peak.height"
   ]
  },
  {
   "cell_type": "code",
   "execution_count": 12,
   "id": "af8e36b4-3b86-4744-ab91-6c651751d90e",
   "metadata": {},
   "outputs": [
    {
     "name": "stdout",
     "output_type": "stream",
     "text": [
      "None\n"
     ]
    }
   ],
   "source": [
    "await full_node.close_full_node_client_async()\n",
    "print(full_node.full_node_client)"
   ]
  }
 ],
 "metadata": {
  "kernelspec": {
   "display_name": "Python 3 (ipykernel)",
   "language": "python",
   "name": "python3"
  },
  "language_info": {
   "codemirror_mode": {
    "name": "ipython",
    "version": 3
   },
   "file_extension": ".py",
   "mimetype": "text/x-python",
   "name": "python",
   "nbconvert_exporter": "python",
   "pygments_lexer": "ipython3",
   "version": "3.9.12"
  }
 },
 "nbformat": 4,
 "nbformat_minor": 5
}
