{
 "cells": [
  {
   "cell_type": "markdown",
   "id": "563c2c16-e842-4384-a455-06b97f3583a6",
   "metadata": {},
   "source": [
    "# Test Full Node"
   ]
  },
  {
   "cell_type": "code",
   "execution_count": 1,
   "id": "6f167510-bf07-440f-ac81-046237e0e876",
   "metadata": {},
   "outputs": [],
   "source": [
    "import sys\n",
    "sys.path.insert(0, \"/chia-utils\")\n",
    "\n",
    "import full_node"
   ]
  },
  {
   "cell_type": "code",
   "execution_count": 2,
   "id": "4cccf0a3-eed9-4c0d-a4cb-afbc2e1b9dcd",
   "metadata": {},
   "outputs": [
    {
     "data": {
      "text/plain": [
       "'host.docker.internal'"
      ]
     },
     "execution_count": 2,
     "metadata": {},
     "output_type": "execute_result"
    }
   ],
   "source": [
    "full_node.self_hostname"
   ]
  },
  {
   "cell_type": "code",
   "execution_count": 3,
   "id": "b610e4d9-296a-453b-a714-3dbb17d1a6da",
   "metadata": {},
   "outputs": [],
   "source": [
    "blockchain_state = await full_node.get_blockchain_state_async()"
   ]
  },
  {
   "cell_type": "code",
   "execution_count": 4,
   "id": "372d680c-f626-475c-91d3-c7df1b350e36",
   "metadata": {},
   "outputs": [
    {
     "data": {
      "text/plain": [
       "{'block_max_cost': 11000000000,\n",
       " 'difficulty': 286720,\n",
       " 'genesis_challenge_initialized': True,\n",
       " 'mempool_cost': 81527777868,\n",
       " 'mempool_max_total_cost': 110000000000,\n",
       " 'mempool_min_fees': {'cost_5000000': 0},\n",
       " 'mempool_size': 149,\n",
       " 'node_id': 'e700247617ea45737fac12f3c003cf7c80dc3e283f5de4e54cb24daf6d9cce24',\n",
       " 'peak': BlockRecord(header_hash=<bytes32: 4c8ee7d3b70223cc9df6ed6d4a9916fed08acfbd1bac4d7e06660272c49bca59>, prev_hash=<bytes32: bb04623ed792d5af2e68ec0fc207986dc79b5c04a392de84f8995817f3b81930>, height=999882, weight=78053931060, total_iters=2302653160004, signage_point_index=24, challenge_vdf_output=ClassgroupElement(data=<bytes100: 00003be1b55e2eaa0a7f6cca7e8fe0ef9b6cbeb76cf05a8059e608d61cb19595a64ac96dbc06a278bc7bea19d472905656643b1650966367423899a5f2d4c738d120bc162f372fe3a267ed55caf04729181f2cdcf8494d792c69dd9fcd3c3236963e0100>), infused_challenge_vdf_output=ClassgroupElement(data=<bytes100: 0300eab660ea9d51b4c0b44df2a7c07834010d43a49d6e322011e06fbbdf0987e2fa6d9ce9df370d1c49166acb8e455192a629c107ad1ccaf7550ec094e5b6e01d64e579c31b44c2867c1e5d9ba9aec8f3b6f2ebf7a11bed87a56dc48e30af16c8860100>), reward_infusion_new_challenge=<bytes32: bb276eb862db4112396c7e10538214eb2dd9c56734d7867615e6c25f666c5ced>, challenge_block_info_hash=<bytes32: 9f768959bdfc2c0f40cf95dc216bc5c076b0c61ee47b7adf3d7f69fb1b8022a9>, sub_slot_iters=72351744, pool_puzzle_hash=<bytes32: 3140ca9a6599285688263f44d443381bee53322bb7ae89230a48ae1c93391e06>, farmer_puzzle_hash=<bytes32: ae5286dc6640f2ed06676e5045f8ba4d1377efee983d00399a0477454178af80>, required_iters=1120836, deficit=4, overflow=False, prev_transaction_block_height=999879, timestamp=None, prev_transaction_block_hash=None, fees=None, reward_claims_incorporated=None, finished_challenge_slot_hashes=None, finished_infused_challenge_slot_hashes=None, finished_reward_slot_hashes=None, sub_epoch_summary_included=None),\n",
       " 'space': 521539783751330,\n",
       " 'sub_slot_iters': 72351744,\n",
       " 'sync': {'sync_mode': False,\n",
       "  'sync_progress_height': 0,\n",
       "  'sync_tip_height': 0,\n",
       "  'synced': True}}"
      ]
     },
     "execution_count": 4,
     "metadata": {},
     "output_type": "execute_result"
    }
   ],
   "source": [
    "blockchain_state"
   ]
  }
 ],
 "metadata": {
  "kernelspec": {
   "display_name": "Python 3 (ipykernel)",
   "language": "python",
   "name": "python3"
  },
  "language_info": {
   "codemirror_mode": {
    "name": "ipython",
    "version": 3
   },
   "file_extension": ".py",
   "mimetype": "text/x-python",
   "name": "python",
   "nbconvert_exporter": "python",
   "pygments_lexer": "ipython3",
   "version": "3.9.12"
  }
 },
 "nbformat": 4,
 "nbformat_minor": 5
}
