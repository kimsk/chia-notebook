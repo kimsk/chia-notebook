{
 "cells": [
  {
   "cell_type": "code",
   "execution_count": 1,
   "id": "6f167510-bf07-440f-ac81-046237e0e876",
   "metadata": {},
   "outputs": [],
   "source": [
    "import sys\n",
    "sys.path.insert(0, \"/chia-utils\")\n",
    "\n",
    "import full_node"
   ]
  },
  {
   "cell_type": "code",
   "execution_count": 3,
   "id": "4cccf0a3-eed9-4c0d-a4cb-afbc2e1b9dcd",
   "metadata": {},
   "outputs": [
    {
     "data": {
      "text/plain": [
       "'host.docker.internal'"
      ]
     },
     "execution_count": 3,
     "metadata": {},
     "output_type": "execute_result"
    }
   ],
   "source": [
    "full_node.self_hostname"
   ]
  },
  {
   "cell_type": "code",
   "execution_count": 5,
   "id": "b610e4d9-296a-453b-a714-3dbb17d1a6da",
   "metadata": {},
   "outputs": [],
   "source": [
    "blockchain_state = await full_node.get_blockchain_state_async()"
   ]
  },
  {
   "cell_type": "code",
   "execution_count": 6,
   "id": "372d680c-f626-475c-91d3-c7df1b350e36",
   "metadata": {},
   "outputs": [
    {
     "data": {
      "text/plain": [
       "{'block_max_cost': 11000000000,\n",
       " 'difficulty': 389120,\n",
       " 'genesis_challenge_initialized': True,\n",
       " 'mempool_cost': 0,\n",
       " 'mempool_max_total_cost': 110000000000,\n",
       " 'mempool_min_fees': {'cost_5000000': 0},\n",
       " 'mempool_size': 0,\n",
       " 'node_id': 'e700247617ea45737fac12f3c003cf7c80dc3e283f5de4e54cb24daf6d9cce24',\n",
       " 'peak': BlockRecord(header_hash=<bytes32: 2eb7b7188bff2062edaeb0cb3940becef41231d3f83306c7ae20bef184b0261b>, prev_hash=<bytes32: ff8c083da7ae89eb109e77f12118ee8062386a2f2e6d3ca93dd109f245d5bbec>, height=986590, weight=73253955636, total_iters=2272049872787, signage_point_index=0, challenge_vdf_output=ClassgroupElement(data=<bytes100: 000047311aff29a935f5a432ddd6e8536d728e9b62cd6deb637fc78b6dc70759216b7e681fc8fe839ef41297dd25897c7bcf433cc084fb5a43f5102ece11afb4f24c739d1a86c2a2d24640820f5177a2ff87aee9fe908e0894d08008cea1e641a2090100>), infused_challenge_vdf_output=None, reward_infusion_new_challenge=<bytes32: 467ec0673cb275609eeac7ae22463ce6c192c038e52ed9d986385dc8aab48c29>, challenge_block_info_hash=<bytes32: 6f10f1a78fb81024ee31ebe8880f2ab0d80c87cc990574a08a47c5c9de0aaa60>, sub_slot_iters=72351744, pool_puzzle_hash=<bytes32: 3140ca9a6599285688263f44d443381bee53322bb7ae89230a48ae1c93391e06>, farmer_puzzle_hash=<bytes32: ae5286dc6640f2ed06676e5045f8ba4d1377efee983d00399a0477454178af80>, required_iters=393107, deficit=15, overflow=False, prev_transaction_block_height=986587, timestamp=None, prev_transaction_block_hash=None, fees=None, reward_claims_incorporated=None, finished_challenge_slot_hashes=None, finished_infused_challenge_slot_hashes=None, finished_reward_slot_hashes=None, sub_epoch_summary_included=None),\n",
       " 'space': 729124188786592,\n",
       " 'sub_slot_iters': 72351744,\n",
       " 'sync': {'sync_mode': False,\n",
       "  'sync_progress_height': 0,\n",
       "  'sync_tip_height': 0,\n",
       "  'synced': True}}"
      ]
     },
     "execution_count": 6,
     "metadata": {},
     "output_type": "execute_result"
    }
   ],
   "source": [
    "blockchain_state"
   ]
  }
 ],
 "metadata": {
  "kernelspec": {
   "display_name": "Python 3 (ipykernel)",
   "language": "python",
   "name": "python3"
  },
  "language_info": {
   "codemirror_mode": {
    "name": "ipython",
    "version": 3
   },
   "file_extension": ".py",
   "mimetype": "text/x-python",
   "name": "python",
   "nbconvert_exporter": "python",
   "pygments_lexer": "ipython3",
   "version": "3.9.12"
  }
 },
 "nbformat": 4,
 "nbformat_minor": 5
}
